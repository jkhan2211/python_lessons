{
 "cells": [
  {
   "cell_type": "code",
   "execution_count": null,
   "metadata": {},
   "outputs": [],
   "source": [
    "list3 = list(range(0, 25))\n",
    "print(list3)\n",
    "\n",
    "def is_multiply3(x):\n",
    "    \"\"\"Return True if x is a multiple of 3\"\"\"\n",
    "    return x % 3 == 0\n",
    "\n",
    "print(list(filter(is_multiply3, list3)))"
   ]
  },
  {
   "cell_type": "code",
   "execution_count": 1,
   "metadata": {},
   "outputs": [
    {
     "data": {
      "text/plain": [
       "45"
      ]
     },
     "execution_count": 1,
     "metadata": {},
     "output_type": "execute_result"
    }
   ],
   "source": [
    "#### Lambdas Function ####\n",
    "lambda x: x+1 # A lambda function object is created\n",
    "(lambda x: x+3)(3) # Evaluating a lambda function\n",
    "\n",
    "#afunc = lambda x: x+1\n",
    "#afunc(3)\n",
    "\n",
    "#bfunc = lambda x, y: (x+y+1, y)\n",
    "#bfunc(3, 4)\n",
    "\n",
    "(lambda *x: sum(x))(1, 2, 3, 4, 5, 6, 7, 8, 9)"
   ]
  },
  {
   "cell_type": "code",
   "execution_count": 2,
   "metadata": {},
   "outputs": [
    {
     "name": "stdout",
     "output_type": "stream",
     "text": [
      "['Mini', 'Sonata', 'Santafe', 'elantra']\n",
      "['Mini', 'Santafe', 'Sonata', 'elantra']\n",
      "Mini elantra\n"
     ]
    },
    {
     "data": {
      "text/plain": [
       "'Sonata'"
      ]
     },
     "execution_count": 2,
     "metadata": {},
     "output_type": "execute_result"
    }
   ],
   "source": [
    "car = ['Santafe', 'Sonata', 'Mini', 'elantra']\n",
    "car.sort(key=len)\n",
    "print(car)\n",
    "print(sorted(car))\n",
    "print(min(car), max(car))\n",
    "max(car, key=lambda i: i.lower())\n"
   ]
  },
  {
   "cell_type": "code",
   "execution_count": 5,
   "metadata": {},
   "outputs": [
    {
     "name": "stdout",
     "output_type": "stream",
     "text": [
      "Tom: 7\n",
      "Son: 10\n",
      "Park: 15\n"
     ]
    }
   ],
   "source": [
    "players = ['Tom','Son','Park','Kwon']; goals = [7,10,15]\n",
    "for last_name, goal in zip(players, goals):\n",
    "    print(f'{last_name}: {goal}')\n",
    "# will print 3"
   ]
  }
 ],
 "metadata": {
  "kernelspec": {
   "display_name": "Python 3",
   "language": "python",
   "name": "python3"
  },
  "language_info": {
   "codemirror_mode": {
    "name": "ipython",
    "version": 3
   },
   "file_extension": ".py",
   "mimetype": "text/x-python",
   "name": "python",
   "nbconvert_exporter": "python",
   "pygments_lexer": "ipython3",
   "version": "3.10.5"
  }
 },
 "nbformat": 4,
 "nbformat_minor": 2
}
